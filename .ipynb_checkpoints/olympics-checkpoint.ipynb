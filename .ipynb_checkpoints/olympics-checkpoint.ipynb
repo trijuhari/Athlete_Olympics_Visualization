{
 "cells": [
  {
   "cell_type": "code",
   "execution_count": 2,
   "id": "tamil-investigator",
   "metadata": {
    "scrolled": true
   },
   "outputs": [
    {
     "name": "stdout",
     "output_type": "stream",
     "text": [
      "--2021-07-22 10:36:26--  https://raw.githubusercontent.com/sejaldua/sql-olympics/main/data/athlete_events.csv\n",
      "Resolving raw.githubusercontent.com (raw.githubusercontent.com)... 185.199.108.133, 185.199.109.133, 185.199.111.133, ...\n",
      "Connecting to raw.githubusercontent.com (raw.githubusercontent.com)|185.199.108.133|:443... connected.\n",
      "HTTP request sent, awaiting response... 200 OK\n",
      "Length: 36182972 (35M) [text/plain]\n",
      "Saving to: ‘athlete_events.csv’\n",
      "\n",
      "athlete_events.csv  100%[===================>]  34,51M   484KB/s    in 67s     \n",
      "\n",
      "2021-07-22 10:37:36 (529 KB/s) - ‘athlete_events.csv’ saved [36182972/36182972]\n",
      "\n"
     ]
    }
   ],
   "source": [
    "! wget  https://raw.githubusercontent.com/sejaldua/sql-olympics/main/data/athlete_events.csv"
   ]
  },
  {
   "cell_type": "code",
   "execution_count": 81,
   "id": "western-newcastle",
   "metadata": {},
   "outputs": [],
   "source": [
    "import pandas as pd\n",
    "import psycopg2 as psql\n",
    "from sqlalchemy import create_engine\n"
   ]
  },
  {
   "cell_type": "code",
   "execution_count": 29,
   "id": "accepting-terminology",
   "metadata": {
    "scrolled": true
   },
   "outputs": [],
   "source": [
    "df_athlete_events = pd.read_csv('data/athlete_events.csv')\n",
    "df_athlete_regions = pd.read_csv('data/noc_regions.csv')\n",
    "\n"
   ]
  },
  {
   "cell_type": "code",
   "execution_count": 49,
   "id": "handmade-legislation",
   "metadata": {
    "scrolled": true
   },
   "outputs": [
    {
     "name": "stdout",
     "output_type": "stream",
     "text": [
      "ID int,\n",
      "Name varchar (50),\n",
      "Sex varchar (50),\n",
      "Age floatn,\n",
      "Height floatn,\n",
      "Weight floatn,\n",
      "Team varchar (50),\n",
      "NOC varchar (50),\n",
      "Games varchar (50),\n",
      "Year int,\n",
      "Season varchar (50),\n",
      "City varchar (50),\n",
      "Sport varchar (50),\n",
      "Event varchar (50),\n",
      "Medal varchar (50),\n"
     ]
    }
   ],
   "source": [
    "for i, j in df_athlete_events.dtypes.items():\n",
    "    if j == 'int64':\n",
    "        j = 'int'\n",
    "    elif j == 'float64':\n",
    "        j = 'floatn'\n",
    "    else :\n",
    "        j = 'varchar (50)'\n",
    "    print(\"{} {},\".format(i,j))"
   ]
  },
  {
   "cell_type": "code",
   "execution_count": 48,
   "id": "engaging-treasure",
   "metadata": {},
   "outputs": [
    {
     "name": "stdout",
     "output_type": "stream",
     "text": [
      "NOC varchar (50),\n",
      "region varchar (50),\n",
      "notes varchar (50),\n"
     ]
    }
   ],
   "source": [
    "for i, j in df_athlete_regions.dtypes.items():\n",
    "    if j == 'int64':\n",
    "        j = 'int'\n",
    "    elif j == 'float64':\n",
    "        j = 'floatn'\n",
    "    else :\n",
    "        j = 'varchar (50)'\n",
    "    print(\"{} {},\".format(i,j))"
   ]
  },
  {
   "cell_type": "code",
   "execution_count": 72,
   "id": "worldwide-taylor",
   "metadata": {
    "collapsed": true
   },
   "outputs": [
    {
     "data": {
      "text/plain": [
       "[('airbnb_reviews',),\n",
       " ('airbnb_hosts',),\n",
       " ('airbnb_guest',),\n",
       " ('online_retail',),\n",
       " ('airbnb_contact',)]"
      ]
     },
     "execution_count": 72,
     "metadata": {},
     "output_type": "execute_result"
    }
   ],
   "source": [
    "conn = psql.connect(\n",
    " database=\"postgres\", user='postgres', password='juhari123', host='127.0.0.1', port= '5432'\n",
    ")\n",
    "cursor = conn.cursor()\n",
    "cursor.execute('''SELECT table_name\n",
    "FROM information_schema.tables\n",
    "WHERE table_type='BASE TABLE'\n",
    "AND table_schema='public' ''')\n",
    "\n",
    "cursor.fetchall()"
   ]
  },
  {
   "cell_type": "code",
   "execution_count": null,
   "id": "turkish-alberta",
   "metadata": {},
   "outputs": [],
   "source": [
    " \n",
    "\n",
    "#Doping EMPLOYEE table if already exists.\n",
    "cursor.execute(\"DROP TABLE IF EXISTS athlete_event\")\n",
    "\n",
    "#Creating table as per requirement\n",
    "sql1 ='''CREATE TABLE athlete_event(\n",
    "ID int,\n",
    "Name varchar (50),\n",
    "Sex varchar (50),\n",
    "Age float,\n",
    "Height float,\n",
    "Weight float,\n",
    "Team varchar (50),\n",
    "NOC varchar (50),\n",
    "Games varchar (50),\n",
    "Year int,\n",
    "Season varchar (50),\n",
    "City varchar (50),\n",
    "Sport varchar (50),\n",
    "Event varchar (50),\n",
    "Medal varchar (50)\n",
    ")\n",
    "'''\n",
    " \n",
    "cursor.execute(sql1)\n",
    "print(\"Table created successfully........\")\n",
    "\n",
    " "
   ]
  },
  {
   "cell_type": "code",
   "execution_count": null,
   "id": "brilliant-situation",
   "metadata": {},
   "outputs": [],
   "source": [
    " \n",
    "\n",
    "#Doping EMPLOYEE table if already exists.\n",
    "cursor.execute(\"DROP TABLE IF EXISTS athlete_region\")\n",
    "\n",
    "#Creating table as per requirement\n",
    "sql1 ='''CREATE TABLE athlete_region(\n",
    "NOC varchar (50),\n",
    "region varchar (50),\n",
    "notes varchar (50)\n",
    ")\n",
    "'''\n",
    " \n",
    "cursor.execute(sql1)\n",
    "print(\"Table created successfully........\")\n",
    "\n",
    " "
   ]
  }
 ],
 "metadata": {
  "kernelspec": {
   "display_name": "Python 3",
   "language": "python",
   "name": "python3"
  },
  "language_info": {
   "codemirror_mode": {
    "name": "ipython",
    "version": 3
   },
   "file_extension": ".py",
   "mimetype": "text/x-python",
   "name": "python",
   "nbconvert_exporter": "python",
   "pygments_lexer": "ipython3",
   "version": "3.7.7"
  },
  "toc": {
   "base_numbering": 1,
   "nav_menu": {},
   "number_sections": true,
   "sideBar": true,
   "skip_h1_title": false,
   "title_cell": "Table of Contents",
   "title_sidebar": "Contents",
   "toc_cell": false,
   "toc_position": {},
   "toc_section_display": true,
   "toc_window_display": false
  }
 },
 "nbformat": 4,
 "nbformat_minor": 5
}
